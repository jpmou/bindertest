{
 "cells": [
  {
   "cell_type": "markdown",
   "id": "4512c586-ddd4-4afe-be69-b9fab1c2044f",
   "metadata": {},
   "source": [
    "# Binder-Test\n",
    "## Simple Output"
   ]
  },
  {
   "cell_type": "code",
   "execution_count": null,
   "id": "a4d4d79f-a381-49cc-8ce9-13efb764d224",
   "metadata": {},
   "outputs": [],
   "source": [
    "print(\"Binder-Test\")"
   ]
  }
 ],
 "metadata": {
  "kernelspec": {
   "display_name": "Python 3 (ipykernel)",
   "language": "python",
   "name": "python3"
  },
  "language_info": {
   "codemirror_mode": {
    "name": "ipython",
    "version": 3
   },
   "file_extension": ".py",
   "mimetype": "text/x-python",
   "name": "python",
   "nbconvert_exporter": "python",
   "pygments_lexer": "ipython3",
   "version": "3.9.10"
  },
  "toc-autonumbering": false
 },
 "nbformat": 4,
 "nbformat_minor": 5
}
